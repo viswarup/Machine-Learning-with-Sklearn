{
 "cells": [
  {
   "cell_type": "markdown",
   "metadata": {
    "collapsed": true
   },
   "source": [
    "# What is PCA\n",
    "\n",
    "Principal Component Analysis (PCA) is a dimensionality-reduction technique that is often used to transform a high-dimensional dataset into a smaller-dimensional subspace prior to running a machine learning algorithm on the data.\n",
    "\n",
    "## When should you use PCA?\n",
    "\n",
    "It is often helpful to use a dimensionality-reduction technique such as PCA prior to performing machine learning because:\n",
    "\n",
    "   * Reducing the dimensionality of the dataset reduces the size of the space on which k-nearest-neighbors (kNN) must calculate distance, which improve the performance of kNN.\n",
    "   * Reducing the dimensionality of the dataset reduces the number of degrees of freedom of the hypothesis, which reduces the risk of overfitting.\n",
    "   * Most algorithms will run significantly faster if they have fewer dimensions they need to look at.\n",
    "   * Reducing the dimensionality via PCA can simplify the dataset, facilitating description, visualization, and insight.\n",
    "\n",
    "\n",
    "## What does PCA do?\n",
    "\n",
    "Principal Component Analysis does just what it advertises; it finds the principal components of the dataset. PCA transforms the data into a new, lower-dimensional subspace—into a new coordinate system—. In the new coordinate system, the first axis corresponds to the first principal component, which is the component that explains the greatest amount of the variance in the data."
   ]
  },
  {
   "cell_type": "markdown",
   "metadata": {},
   "source": [
    "## Math of PCA"
   ]
  },
  {
   "cell_type": "code",
   "execution_count": 1,
   "metadata": {
    "collapsed": true
   },
   "outputs": [],
   "source": [
    "import numpy as np"
   ]
  },
  {
   "cell_type": "code",
   "execution_count": 2,
   "metadata": {},
   "outputs": [
    {
     "name": "stdout",
     "output_type": "stream",
     "text": [
      "Array:\n",
      "[[ 3  7]\n",
      " [-4 -6]\n",
      " [ 7  8]\n",
      " [ 1 -1]\n",
      " [-4 -1]\n",
      " [-3 -7]]\n",
      "---\n",
      "Dimensions:\n",
      "(6, 2)\n",
      "---\n",
      "Mean across Rows:\n",
      "[ 0.  0.]\n"
     ]
    }
   ],
   "source": [
    "# Create (6x2) array\n",
    "A = np.array([\n",
    "        [ 3,  7],\n",
    "        [-4, -6],\n",
    "        [ 7,  8],\n",
    "        [ 1, -1],\n",
    "        [-4, -1],\n",
    "        [-3, -7]\n",
    "    ])\n",
    "\n",
    "m,n = A.shape # m-observations, n-features\n",
    "\n",
    "print(\"Array:\")\n",
    "print(A) # our array\n",
    "\n",
    "print(\"---\")\n",
    "print(\"Dimensions:\")\n",
    "print(A.shape) # shape\n",
    "\n",
    "print(\"---\")\n",
    "print(\"Mean across Rows:\")\n",
    "print(np.mean(A,axis=0))"
   ]
  },
  {
   "cell_type": "code",
   "execution_count": 3,
   "metadata": {},
   "outputs": [
    {
     "name": "stdout",
     "output_type": "stream",
     "text": [
      "   a0  a1\n",
      "0   3   7\n",
      "1  -4  -6\n",
      "2   7   8\n",
      "3   1  -1\n",
      "4  -4  -1\n",
      "5  -3  -7\n"
     ]
    }
   ],
   "source": [
    "# Note: you can convert this easily into a DataFrame ...\n",
    "import pandas as pd\n",
    "df = pd.DataFrame(A, columns = ['a0', 'a1'])\n",
    "print(df)"
   ]
  },
  {
   "cell_type": "code",
   "execution_count": 4,
   "metadata": {},
   "outputs": [
    {
     "data": {
      "text/plain": [
       "array([[ 3,  7],\n",
       "       [-4, -6],\n",
       "       [ 7,  8],\n",
       "       [ 1, -1],\n",
       "       [-4, -1],\n",
       "       [-3, -7]])"
      ]
     },
     "execution_count": 4,
     "metadata": {},
     "output_type": "execute_result"
    }
   ],
   "source": [
    "# ... and can go from df back to np.array\n",
    "df.values"
   ]
  },
  {
   "cell_type": "markdown",
   "metadata": {},
   "source": [
    "### Covariance"
   ]
  },
  {
   "cell_type": "code",
   "execution_count": 5,
   "metadata": {
    "collapsed": true
   },
   "outputs": [],
   "source": [
    "import matplotlib\n",
    "import matplotlib.pyplot as plt\n",
    "%matplotlib inline\n",
    "\n",
    "# makes charts pretty\n",
    "import seaborn as sns\n",
    "sns.set(color_codes=True)"
   ]
  },
  {
   "cell_type": "code",
   "execution_count": 6,
   "metadata": {},
   "outputs": [
    {
     "data": {
      "text/plain": [
       "<matplotlib.text.Text at 0x7fd0c6baa438>"
      ]
     },
     "execution_count": 6,
     "metadata": {},
     "output_type": "execute_result"
    },
    {
     "data": {
      "image/png": "[encoded data removed]",
      "text/plain": [
       "<matplotlib.figure.Figure at 0x7fd0c8be0128>"
      ]
     },
     "metadata": {},
     "output_type": "display_data"
    }
   ],
   "source": [
    "# plots\n",
    "plt.scatter(A[:,0],A[:,1])\n",
    "\n",
    "# annotations\n",
    "for i in range(m):\n",
    "    plt.annotate('('+str(A[i,0])+','+str(A[i,1])+')',(A[i,0]+0.2,A[i,1]+0.2))\n",
    "\n",
    "# axes\n",
    "plt.plot([-6,8],[0,0],'grey') # x-axis\n",
    "plt.plot([0,0],[-8,10],'grey') # y-axis\n",
    "plt.axis([-6, 8, -8, 10])\n",
    "plt.axes().set_aspect('equal')\n",
    "\n",
    "# labels\n",
    "plt.xlabel(\"$a_0$\")\n",
    "plt.ylabel(\"$a_1$\")\n",
    "plt.title(\"Dataset $A$\")"
   ]
  },
  {
   "cell_type": "markdown",
   "metadata": {},
   "source": [
    "Sample covariance between $a_0$ and $a_1$:\n",
    "\n",
    "$$\n",
    "cov_{a_0,a_1} =\\frac{\\sum_{i=0}^{m-1}(a_0^i - \\bar{a_0})(a_1^i - \\bar{a_1})}{m-1}\n",
    "$$"
   ]
  },
  {
   "cell_type": "code",
   "execution_count": 7,
   "metadata": {},
   "outputs": [
    {
     "name": "stdout",
     "output_type": "stream",
     "text": [
      "Length of prod equals 6\n",
      "---\n",
      "Covariance:\n",
      "25.0\n"
     ]
    }
   ],
   "source": [
    "# Calculate covariance between a0 and a1\n",
    "a0 = A[:,0]\n",
    "a1 = A[:,1]\n",
    "prod = a0*a1 # element-wise product, ignore means as zero already\n",
    "print(\"Length of prod equals \" + str(len(prod)))\n",
    "print(\"---\")\n",
    "print(\"Covariance:\")\n",
    "print(np.sum(prod)/(m-1))"
   ]
  },
  {
   "cell_type": "code",
   "execution_count": 8,
   "metadata": {},
   "outputs": [
    {
     "data": {
      "text/plain": [
       "array([[ 20.,  25.],\n",
       "       [ 25.,  40.]])"
      ]
     },
     "execution_count": 8,
     "metadata": {},
     "output_type": "execute_result"
    }
   ],
   "source": [
    "# Get more stuff using NumPy's covariance method\n",
    "np.cov(a0,a1)"
   ]
  },
  {
   "cell_type": "markdown",
   "metadata": {},
   "source": [
    "Linear Algebra way:\n",
    "$$\n",
    "\\Sigma = \\frac{A^TA}{(m-1)}\n",
    "$$"
   ]
  },
  {
   "cell_type": "code",
   "execution_count": 9,
   "metadata": {},
   "outputs": [
    {
     "data": {
      "text/plain": [
       "array([[ 3, -4,  7,  1, -4, -3],\n",
       "       [ 7, -6,  8, -1, -1, -7]])"
      ]
     },
     "execution_count": 9,
     "metadata": {},
     "output_type": "execute_result"
    }
   ],
   "source": [
    "# Aside: What does A.T do?\n",
    "A.T # or np.transpose(A)"
   ]
  },
  {
   "cell_type": "code",
   "execution_count": 10,
   "metadata": {},
   "outputs": [
    {
     "data": {
      "text/plain": [
       "array([[100, 125],\n",
       "       [125, 200]])"
      ]
     },
     "execution_count": 10,
     "metadata": {},
     "output_type": "execute_result"
    }
   ],
   "source": [
    "# Matrix Multiplication, note @ operator\n",
    "A.T @ A # or np.dot(A.T,A)"
   ]
  },
  {
   "cell_type": "code",
   "execution_count": 11,
   "metadata": {},
   "outputs": [
    {
     "data": {
      "text/plain": [
       "array([[ 20.,  25.],\n",
       "       [ 25.,  40.]])"
      ]
     },
     "execution_count": 11,
     "metadata": {},
     "output_type": "execute_result"
    }
   ],
   "source": [
    "# Need to divide by (m-1) to yield true Sample Covariance Matrix\n",
    "# Let's call this Sigma\n",
    "Sigma = (A.T @ A)/(m-1) # or np.cov(A.T)\n",
    "Sigma"
   ]
  },
  {
   "cell_type": "markdown",
   "metadata": {},
   "source": [
    "### 4. Eigen-decomposition of $\\Sigma$"
   ]
  },
  {
   "cell_type": "markdown",
   "metadata": {},
   "source": [
    "According to [Wikipedia article on PCA](https://en.m.wikipedia.org/wiki/Principal_component_analysis), *\"PCA can be done by eigenvalue decomposition of a data covariance (or correlation) matrix or singular value decomposition of a data matrix.\"* I choose the first approach.\n",
    "\n",
    "*$\\Sigma$ is a real, symmetric matrix; thus, it has 1) real eigenvalues and 2) orthogonal eigenvectors."
   ]
  },
  {
   "cell_type": "code",
   "execution_count": 12,
   "metadata": {},
   "outputs": [
    {
     "name": "stdout",
     "output_type": "stream",
     "text": [
      "Eigenvalues:\n",
      "[  3.07417596  56.92582404]\n",
      "---\n",
      "Eigenvectors:\n",
      "[[-0.82806723 -0.56062881]\n",
      " [ 0.56062881 -0.82806723]]\n"
     ]
    }
   ],
   "source": [
    "l, X = np.linalg.eig(Sigma)\n",
    "print(\"Eigenvalues:\")\n",
    "print(l)\n",
    "print(\"---\")\n",
    "print(\"Eigenvectors:\")\n",
    "print(X)"
   ]
  },
  {
   "cell_type": "markdown",
   "metadata": {},
   "source": [
    "Recall from your Linear Algebra class that the following should hold:\n",
    "\n",
    "\\begin{eqnarray}\n",
    "\\Sigma x_0 &=& \\lambda_0 x_0 \\nonumber \\\\\n",
    "\\Sigma x_1 &=& \\lambda_1 x_1 \\nonumber \\\\\n",
    "\\end{eqnarray}"
   ]
  },
  {
   "cell_type": "code",
   "execution_count": 13,
   "metadata": {},
   "outputs": [
    {
     "name": "stdout",
     "output_type": "stream",
     "text": [
      "Sigma times eigenvector:\n",
      "[-2.54562438  1.72347161]\n",
      "Eigenvalue times eigenvector:\n",
      "[-2.54562438  1.72347161]\n"
     ]
    }
   ],
   "source": [
    "# let's check the first Eigenvalue, Eigenvector combination\n",
    "print(\"Sigma times eigenvector:\")\n",
    "print(Sigma @ X[:,0]) # 2x2 times 2x1\n",
    "print(\"Eigenvalue times eigenvector:\")\n",
    "print(l[0] * X[:,0]) # scalar times 2x1, ANNOYING - MUST USE * vs. @"
   ]
  },
  {
   "cell_type": "code",
   "execution_count": 14,
   "metadata": {},
   "outputs": [
    {
     "name": "stdout",
     "output_type": "stream",
     "text": [
      "Sigma times eigenvector:\n",
      "[-31.91425695 -47.13840945]\n",
      "Eigenvalue times eigenvector:\n",
      "[-31.91425695 -47.13840945]\n"
     ]
    }
   ],
   "source": [
    "# ... and the second\n",
    "print(\"Sigma times eigenvector:\")\n",
    "print(Sigma @ X[:,1]) # 2x2 times 2x1\n",
    "print(\"Eigenvalue times eigenvector:\")\n",
    "print(l[1] * X[:,1]) # scalar times 2x1, ANNOYING - MUST USE * vs. @"
   ]
  },
  {
   "cell_type": "code",
   "execution_count": 15,
   "metadata": {},
   "outputs": [
    {
     "name": "stdout",
     "output_type": "stream",
     "text": [
      "The first principal component is evector with largest evalue:\n",
      "[-0.56062881 -0.82806723]\n",
      "---\n",
      "Second principal component:\n",
      "[-0.82806723  0.56062881]\n"
     ]
    }
   ],
   "source": [
    "print(\"The first principal component is evector with largest evalue:\")\n",
    "print(X[:,1])\n",
    "print(\"---\")\n",
    "print(\"Second principal component:\")\n",
    "print(X[:,0])"
   ]
  },
  {
   "cell_type": "code",
   "execution_count": 16,
   "metadata": {},
   "outputs": [
    {
     "data": {
      "text/plain": [
       "0.0"
      ]
     },
     "execution_count": 16,
     "metadata": {},
     "output_type": "execute_result"
    }
   ],
   "source": [
    "# Orthogonal? A: Yes\n",
    "X[:,1].T @ X[:,0]"
   ]
  },
  {
   "cell_type": "code",
   "execution_count": 17,
   "metadata": {},
   "outputs": [
    {
     "name": "stdout",
     "output_type": "stream",
     "text": [
      "1.0\n",
      "1.0\n"
     ]
    }
   ],
   "source": [
    "# Length 1? A: Yes\n",
    "print(np.sqrt(X[:,1].T @ X[:,1]))\n",
    "print(np.sqrt(X[:,0].T @ X[:,0]))"
   ]
  },
  {
   "cell_type": "code",
   "execution_count": 18,
   "metadata": {},
   "outputs": [
    {
     "data": {
      "text/plain": [
       "<matplotlib.text.Text at 0x7fd0c6a41588>"
      ]
     },
     "execution_count": 18,
     "metadata": {},
     "output_type": "execute_result"
    },
    {
     "data": {
      "image/png": "[encoded data removed]",
      "text/plain": [
       "<matplotlib.figure.Figure at 0x7fd0c6b33908>"
      ]
     },
     "metadata": {},
     "output_type": "display_data"
    }
   ],
   "source": [
    "# plots\n",
    "plt.scatter(A[:,0],A[:,1])\n",
    "scale = 3 # increase this scaling factor to highlight these vectors\n",
    "plt.plot([0,X[0,1]*scale],[0,X[1,1]*scale],'r') # First principal component\n",
    "plt.plot([0,X[0,0]*scale],[0,X[1,0]*scale],'g') # Second principal component\n",
    "\n",
    "# annotations\n",
    "for i in range(m):\n",
    "    plt.annotate('('+str(A[i,0])+','+str(A[i,1])+')',(A[i,0]+0.2,A[i,1]+0.2))\n",
    "\n",
    "# axes\n",
    "plt.plot([-6,8],[0,0],'grey') # x-axis\n",
    "plt.plot([0,0],[-8,10],'grey') # y-axis\n",
    "plt.axis([-6, 8, -8, 10])\n",
    "plt.axes().set_aspect('equal')\n",
    "\n",
    "# labels\n",
    "plt.xlabel(\"$a_0$\")\n",
    "plt.ylabel(\"$a_1$\")\n",
    "plt.title(\"Eigenvectors of $\\Sigma$\")"
   ]
  },
  {
   "cell_type": "markdown",
   "metadata": {},
   "source": [
    "### 5. Dimensionality Reduction: 2D to 1D"
   ]
  },
  {
   "cell_type": "markdown",
   "metadata": {},
   "source": [
    "I discovered why Prof. Ng recommended **Octave/Matlab** versus **Python**. Linear algebra expressions are not clean in **Python**. Had to convert `np.array` to `matrix` object. See below."
   ]
  },
  {
   "cell_type": "code",
   "execution_count": 19,
   "metadata": {
    "collapsed": true
   },
   "outputs": [],
   "source": [
    "# change to matrix\n",
    "Amat = np.asmatrix(A)\n",
    "Xmat = np.asmatrix(X)"
   ]
  },
  {
   "cell_type": "code",
   "execution_count": 20,
   "metadata": {
    "collapsed": true
   },
   "outputs": [],
   "source": [
    "# Choose eigenvector with highest eigenvalue as first principal component\n",
    "pc1 = Xmat[:,1]"
   ]
  },
  {
   "cell_type": "code",
   "execution_count": 21,
   "metadata": {},
   "outputs": [
    {
     "name": "stdout",
     "output_type": "stream",
     "text": [
      "Compressed version of A:\n",
      "[[ -7.47835704]\n",
      " [  7.21091862]\n",
      " [-10.54893951]\n",
      " [  0.26743842]\n",
      " [  3.07058247]\n",
      " [  7.47835704]]\n"
     ]
    }
   ],
   "source": [
    "Acomp = Amat @ pc1 # 6x2 @ 2x1 yields 6x1\n",
    "print(\"Compressed version of A:\")\n",
    "print(Acomp)"
   ]
  },
  {
   "cell_type": "code",
   "execution_count": 22,
   "metadata": {},
   "outputs": [
    {
     "name": "stdout",
     "output_type": "stream",
     "text": [
      "Reconstruction from 1D compression of A:\n",
      "[[ 4.1925824   6.1925824 ]\n",
      " [-4.04264872 -5.97112541]\n",
      " [ 5.9140394   8.73523112]\n",
      " [-0.14993368 -0.22145699]\n",
      " [-1.72145699 -2.54264872]\n",
      " [-4.1925824  -6.1925824 ]]\n"
     ]
    }
   ],
   "source": [
    "Arec = Acomp @ pc1.T # 6x1 @ 1x2, this breaks with np.array\n",
    "print(\"Reconstruction from 1D compression of A:\")\n",
    "print(Arec)"
   ]
  },
  {
   "cell_type": "code",
   "execution_count": 24,
   "metadata": {},
   "outputs": [
    {
     "data": {
      "text/plain": [
       "<matplotlib.text.Text at 0x7fd0c67c7518>"
      ]
     },
     "execution_count": 24,
     "metadata": {},
     "output_type": "execute_result"
    },
    {
     "data": {
      "image/png": "[encoded data removed]",
      "text/plain": [
       "<matplotlib.figure.Figure at 0x7fd0c6a00a90>"
      ]
     },
     "metadata": {},
     "output_type": "display_data"
    }
   ],
   "source": [
    "# plots\n",
    "plt.scatter([Amat[:,0]], [Amat[:,1]]# Dimensionality Reduction: Principal Component Analysis in-depth\n",
    "\n",
    "Here we'll explore **Principal Component Analysis**, which is an extremely useful linear dimensionality reduction technique.\n",
    "\n",
    "We'll start with our standard set of initial imports:\n",
    "\n",
    "from __future__ import print_function, division\n",
    "\n",
    "%matplotlib inline\n",
    "import numpy as np\n",
    "import matplotlib.pyplot as plt\n",
    "from scipy import stats\n",
    "\n",
    "# use seaborn plotting style defaults\n",
    "import seaborn as sns; sns.set()\n",
    "\n",
    "## Introducing Principal Component Analysis\n",
    "\n",
    "Principal Component Analysis is a very powerful unsupervised method for *dimensionality reduction* in data.  It's easiest to visualize by looking at a two-dimensional dataset:\n",
    "\n",
    "np.random.seed(1)\n",
    "X = np.dot(np.random.random(size=(2, 2)), np.random.normal(size=(2, 200))).T\n",
    "plt.plot(X[:, 0], X[:, 1], 'o')\n",
    "plt.axis('equal');\n",
    "\n",
    "We can see that there is a definite trend in the data. What PCA seeks to do is to find the **Principal Axes** in the data, and explain how important those axes are in describing the data distribution:\n",
    "\n",
    "from sklearn.decomposition import PCA\n",
    "pca = PCA(n_components=2)\n",
    "pca.fit(X)\n",
    "print(pca.explained_variance_)\n",
    "print(pca.components_)\n",
    "\n",
    "To see what these numbers mean, let's view them as vectors plotted on top of the data:\n",
    "\n",
    "plt.plot(X[:, 0], X[:, 1], 'o', alpha=0.5)\n",
    "for length, vector in zip(pca.explained_variance_, pca.components_):\n",
    "    v = vector * 3 * np.sqrt(length)\n",
    "    plt.plot([0, v[0]], [0, v[1]], '-k', lw=3)\n",
    "plt.axis('equal');\n",
    "\n",
    "Notice that one vector is longer than the other. In a sense, this tells us that that direction in the data is somehow more \"important\" than the other direction.\n",
    "The explained variance quantifies this measure of \"importance\" in direction.\n",
    "\n",
    "Another way to think of it is that the second principal component could be **completely ignored** without much loss of information! Let's see what our data look like if we only keep 95% of the variance:\n",
    "\n",
    "clf = PCA(0.95) # keep 95% of variance\n",
    "X_trans = clf.fit_transform(X)\n",
    "print(X.shape)\n",
    "print(X_trans.shape)\n",
    "\n",
    "By specifying that we want to throw away 5% of the variance, the data is now compressed by a factor of 50%! Let's see what the data look like after this compression:\n",
    "\n",
    "X_new = clf.inverse_transform(X_trans)\n",
    "plt.plot(X[:, 0], X[:, 1], 'o', alpha=0.2)\n",
    "plt.plot(X_new[:, 0], X_new[:, 1], 'ob', alpha=0.8)\n",
    "plt.axis('equal');\n",
    "\n",
    "The light points are the original data, while the dark points are the projected version.  We see that after truncating 5% of the variance of this dataset and then reprojecting it, the \"most important\" features of the data are maintained, and we've compressed the data by 50%!\n",
    "\n",
    "This is the sense in which \"dimensionality reduction\" works: if you can approximate a data set in a lower dimension, you can often have an easier time visualizing it or fitting complicated models to the data.\n",
    "\n",
    "### Application of PCA to Digits\n",
    "\n",
    "The dimensionality reduction might seem a bit abstract in two dimensions, but the projection and dimensionality reduction can be extremely useful when visualizing high-dimensional data.  Let's take a quick look at the application of PCA to the digits data we looked at before:\n",
    "\n",
    "from sklearn.datasets import load_digits\n",
    "digits = load_digits()\n",
    "X = digits.data\n",
    "y = digits.target\n",
    "\n",
    "pca = PCA(2)  # project from 64 to 2 dimensions\n",
    "Xproj = pca.fit_transform(X)\n",
    "print(X.shape)\n",
    "print(Xproj.shape)\n",
    "\n",
    "plt.scatter(Xproj[:, 0], Xproj[:, 1], c=y, edgecolor='none', alpha=0.5,\n",
    "            cmap=plt.cm.get_cmap('nipy_spectral', 10))\n",
    "plt.colorbar();\n",
    "\n",
    "This gives us an idea of the relationship between the digits. Essentially, we have found the optimal stretch and rotation in 64-dimensional space that allows us to see the layout of the digits, **without reference** to the labels.\n",
    "\n",
    "### What do the Components Mean?\n",
    "\n",
    "PCA is a very useful dimensionality reduction algorithm, because it has a very intuitive interpretation via *eigenvectors*.\n",
    "The input data is represented as a vector: in the case of the digits, our data is\n",
    "\n",
    "$$\n",
    "x = [x_1, x_2, x_3 \\cdots]\n",
    "$$\n",
    "\n",
    "but what this really means is\n",
    "\n",
    "$$\n",
    "image(x) = x_1 \\cdot{\\rm (pixel~1)} + x_2 \\cdot{\\rm (pixel~2)} + x_3 \\cdot{\\rm (pixel~3)} \\cdots\n",
    "$$\n",
    "\n",
    "If we reduce the dimensionality in the pixel space to (say) 6, we recover only a partial image:\n",
    "\n",
    "from fig_code.figures import plot_image_components\n",
    "\n",
    "sns.set_style('white')\n",
    "plot_image_components(digits.data[0])\n",
    "\n",
    "But the pixel-wise representation is not the only choice. We can also use other *basis functions*, and write something like\n",
    "\n",
    "$$\n",
    "image(x) = {\\rm mean} + x_1 \\cdot{\\rm (basis~1)} + x_2 \\cdot{\\rm (basis~2)} + x_3 \\cdot{\\rm (basis~3)} \\cdots\n",
    "$$\n",
    "\n",
    "What PCA does is to choose optimal **basis functions** so that only a few are needed to get a reasonable approximation.\n",
    "The low-dimensional representation of our data is the coefficients of this series, and the approximate reconstruction is the result of the sum:\n",
    "\n",
    "from fig_code.figures import plot_pca_interactive\n",
    "plot_pca_interactive(digits.data)\n",
    "\n",
    "Here we see that with only six PCA components, we recover a reasonable approximation of the input!\n",
    "\n",
    "Thus we see that PCA can be viewed from two angles. It can be viewed as **dimensionality reduction**, or it can be viewed as a form of **lossy data compression** where the loss favors noise. In this way, PCA can be used as a **filtering** process as well.\n",
    "\n",
    "### Choosing the Number of Components\n",
    "\n",
    "But how much information have we thrown away?  We can figure this out by looking at the **explained variance** as a function of the components:\n",
    "\n",
    "sns.set()\n",
    "pca = PCA().fit(X)\n",
    "plt.plot(np.cumsum(pca.explained_variance_ratio_))\n",
    "plt.xlabel('number of components')\n",
    "plt.ylabel('cumulative explained variance');\n",
    "\n",
    "Here we see that our two-dimensional projection loses a lot of information (as measured by the explained variance) and that we'd need about 20 components to retain 90% of the variance.  Looking at this plot for a high-dimensional dataset can help you understand the level of redundancy present in multiple observations.\n",
    "\n",
    "### PCA as data compression\n",
    "\n",
    "As we mentioned, PCA can be used for is a sort of data compression. Using a small ``n_components`` allows you to represent a high dimensional point as a sum of just a few principal vectors.\n",
    "\n",
    "Here's what a single digit looks like as you change the number of components:\n",
    "\n",
    "fig, axes = plt.subplots(8, 8, figsize=(8, 8))\n",
    "fig.subplots_adjust(hspace=0.1, wspace=0.1)\n",
    "\n",
    "for i, ax in enumerate(axes.flat):\n",
    "    pca = PCA(i + 1).fit(X)\n",
    "    im = pca.inverse_transform(pca.transform(X[20:21]))\n",
    "\n",
    "    ax.imshow(im.reshape((8, 8)), cmap='binary')\n",
    "    ax.text(0.95, 0.05, 'n = {0}'.format(i + 1), ha='right',\n",
    "            transform=ax.transAxes, color='green')\n",
    "    ax.set_xticks([])\n",
    "    ax.set_yticks([])\n",
    "\n",
    "Let's take another look at this by using IPython's ``interact`` functionality to view the reconstruction of several images at once:\n",
    "\n",
    "from IPython.html.widgets import interact\n",
    "\n",
    "def plot_digits(n_components):\n",
    "    fig = plt.figure(figsize=(8, 8))\n",
    "    plt.subplot(1, 1, 1, frameon=False, xticks=[], yticks=[])\n",
    "    nside = 10\n",
    "    \n",
    "    pca = PCA(n_components).fit(X)\n",
    "    Xproj = pca.inverse_transform(pca.transform(X[:nside ** 2]))\n",
    "    Xproj = np.reshape(Xproj, (nside, nside, 8, 8))\n",
    "    total_var = pca.explained_variance_ratio_.sum()\n",
    "    \n",
    "    im = np.vstack([np.hstack([Xproj[i, j] for j in range(nside)])\n",
    "                    for i in range(nside)])\n",
    "    plt.imshow(im)\n",
    "    plt.grid(False)\n",
    "    plt.title(\"n = {0}, variance = {1:.2f}\".format(n_components, total_var),\n",
    "                 size=18)\n",
    "    plt.clim(0, 16)\n",
    "    \n",
    "interact(plot_digits, n_components=[1, 64], nside=[1, 8]);) # A in blue\n",
    "plt.plot(Arec[:,0],Arec[:,1],'r', marker='o') # Arec in RED\n",
    "\n",
    "# axes\n",
    "plt.plot([-6,8],[0,0],'grey') # x-axis\n",
    "plt.plot([0,0],[-8,10],'grey') # y-axis\n",
    "plt.axis([-6, 8, -8, 10])\n",
    "plt.axes().set_aspect('equal')\n",
    "\n",
    "# labels\n",
    "plt.xlabel(\"$a_0$\")\n",
    "plt.ylabel(\"$a_1$\")\n",
    "plt.title(\"Reconstructing the 1D compression of $A$\")"
   ]
  },
  {
   "cell_type": "code",
   "execution_count": 25,
   "metadata": {},
   "outputs": [
    {
     "name": "stdout",
     "output_type": "stream",
     "text": [
      "2\n",
      "1\n"
     ]
    }
   ],
   "source": [
    "print(np.linalg.matrix_rank(Amat)) # originally a Rank 2 matrix\n",
    "print(np.linalg.matrix_rank(Arec)) # reconstructed matrix is Rank 1"
   ]
  },
  {
   "cell_type": "markdown",
   "metadata": {},
   "source": [
    "By tacking on the Rank-1 matrix related to the 2nd eigenvector you get back to the original data:"
   ]
  },
  {
   "cell_type": "code",
   "execution_count": 26,
   "metadata": {},
   "outputs": [
    {
     "data": {
      "text/plain": [
       "matrix([[ 3.,  7.],\n",
       "        [-4., -6.],\n",
       "        [ 7.,  8.],\n",
       "        [ 1., -1.],\n",
       "        [-4., -1.],\n",
       "        [-3., -7.]])"
      ]
     },
     "execution_count": 26,
     "metadata": {},
     "output_type": "execute_result"
    }
   ],
   "source": [
    "# Add the Rank 1 matrix for the other vector to recover A completely\n",
    "Amat @ Xmat[:,1] @ Xmat[:,1].T + Amat @ Xmat[:,0] @ Xmat[:,0].T"
   ]
  },
  {
   "cell_type": "code",
   "execution_count": 27,
   "metadata": {},
   "outputs": [
    {
     "data": {
      "text/plain": [
       "matrix([[ 3.,  7.],\n",
       "        [-4., -6.],\n",
       "        [ 7.,  8.],\n",
       "        [ 1., -1.],\n",
       "        [-4., -1.],\n",
       "        [-3., -7.]])"
      ]
     },
     "execution_count": 27,
     "metadata": {},
     "output_type": "execute_result"
    }
   ],
   "source": [
    "# Why does this work? Well, recall \n",
    "# X @ X.T is identity matrix as X is orthonormal\n",
    "A @ Xmat @ Xmat.T"
   ]
  },
  {
   "cell_type": "code",
   "execution_count": 28,
   "metadata": {},
   "outputs": [
    {
     "data": {
      "text/plain": [
       "<matplotlib.text.Text at 0x7fd0c675cdd8>"
      ]
     },
     "execution_count": 28,
     "metadata": {},
     "output_type": "execute_result"
    },
    {
     "data": {
      "image/png": "[encoded data removed]",
      "text/plain": [
       "<matplotlib.figure.Figure at 0x7fd0c6782a90>"
      ]
     },
     "metadata": {},
     "output_type": "display_data"
    }
   ],
   "source": [
    "# plots\n",
    "plt.scatter(A[:,0], A[:,1]) # A in blue\n",
    "plt.plot(Arec[:,0],Arec[:,1],'r', marker='o') # Arec in RED\n",
    "\n",
    "# across observations\n",
    "for i in range(m):\n",
    "    e = np.vstack((A[i],Arec[i]))\n",
    "    plt.plot(e[:,0],e[:,1],'b') # BLUE\n",
    "\n",
    "# axes\n",
    "plt.plot([-6,8],[0,0],'grey') # x-axis\n",
    "plt.plot([0,0],[-8,10],'grey') # y-axis\n",
    "plt.axis([-6, 8, -8, 10])\n",
    "plt.axes().set_aspect('equal')\n",
    "\n",
    "# labels\n",
    "plt.xlabel(\"$a_0$\")\n",
    "plt.ylabel(\"$a_1$\")\n",
    "plt.title(\"Back to $A$\")"
   ]
  },
  {
   "cell_type": "markdown",
   "metadata": {},
   "source": [
    "[Wicked animated GIF which illustrates PCA](http://stats.stackexchange.com/questions/2691/making-sense-of-principal-component-analysis-eigenvectors-eigenvalues)\n",
    "\n",
    "Magically, eigen-decomposition (or PCA) finds the line where\n",
    "1. the spread of values along the black line is **maximal**\n",
    "2. the projection error (sum of red lines) is **minimal**\n",
    "\n",
    "<img src=\"https://i.stack.imgur.com/Q7HIP.gif\">"
   ]
  },
  {
   "cell_type": "markdown",
   "metadata": {},
   "source": [
    "### 6. Variance Retained"
   ]
  },
  {
   "cell_type": "code",
   "execution_count": 29,
   "metadata": {},
   "outputs": [
    {
     "name": "stdout",
     "output_type": "stream",
     "text": [
      "0.948763733928\n"
     ]
    }
   ],
   "source": [
    "# Average squared projection error using PC1\n",
    "unexp_err = np.mean(np.sum(np.square(Amat - Arec),axis=1))\n",
    "total_err = np.mean(np.sum(np.square(Amat),axis=1))\n",
    "ret_err = 1 - (unexp_err / total_err) # percent of variance retained\n",
    "print(ret_err)"
   ]
  },
  {
   "cell_type": "code",
   "execution_count": 30,
   "metadata": {},
   "outputs": [
    {
     "data": {
      "text/plain": [
       "0.94876373392787527"
      ]
     },
     "execution_count": 30,
     "metadata": {},
     "output_type": "execute_result"
    }
   ],
   "source": [
    "# Using eigenvalues\n",
    "l[1]/np.sum(l) # recall, use the 2nd eigenvalue"
   ]
  },
  {
   "cell_type": "markdown",
   "metadata": {},
   "source": [
    "### 7. Summary of Eigen-decomposition Approach"
   ]
  },
  {
   "cell_type": "markdown",
   "metadata": {},
   "source": [
    "1. Normalize columns of $A$ so that each feature has zero mean\n",
    "1. Compute sample covariance matrix $\\Sigma = {A^TA}/{(m-1)}$\n",
    "1. Perform eigen-decomposition of $\\Sigma$ using `np.linalg.eig(Sigma)`\n",
    "1. Compress by ordering $k$ evectors according to largest evalues and compute $AX_k$\n",
    "1. Reconstruct from compressed version by computing $A X_k X_k^T$"
   ]
  },
  {
   "cell_type": "markdown",
   "metadata": {},
   "source": [
    "## Implementation with scikit-learn"
   ]
  },
  {
   "cell_type": "code",
   "execution_count": 41,
   "metadata": {
    "collapsed": true
   },
   "outputs": [],
   "source": [
    "from sklearn import datasets"
   ]
  },
  {
   "cell_type": "markdown",
   "metadata": {},
   "source": [
    "Let's try going from 4D to 2D using the classical iris dataset."
   ]
  },
  {
   "cell_type": "code",
   "execution_count": 42,
   "metadata": {},
   "outputs": [
    {
     "name": "stdout",
     "output_type": "stream",
     "text": [
      "Iris Plants Database\n",
      "====================\n",
      "\n",
      "Notes\n",
      "-----\n",
      "Data Set Characteristics:\n",
      "    :Number of Instances: 150 (50 in each of three classes)\n",
      "    :Number of Attributes: 4 numeric, predictive attributes and the class\n",
      "    :Attribute Information:\n",
      "        - sepal length in cm\n",
      "        - sepal width in cm\n",
      "        - petal length in cm\n",
      "        - petal width in cm\n",
      "        - class:\n",
      "                - Iris-Setosa\n",
      "                - Iris-Versicolour\n",
      "                - Iris-Virginica\n",
      "    :Summary Statistics:\n",
      "\n",
      "    ============== ==== ==== ======= ===== ====================\n",
      "                    Min  Max   Mean    SD   Class Correlation\n",
      "    ============== ==== ==== ======= ===== ====================\n",
      "    sepal length:   4.3  7.9   5.84   0.83    0.7826\n",
      "    sepal width:    2.0  4.4   3.05   0.43   -0.4194\n",
      "    petal length:   1.0  6.9   3.76   1.76    0.9490  (high!)\n",
      "    petal width:    0.1  2.5   1.20  0.76     0.9565  (high!)\n",
      "    ============== ==== ==== ======= ===== ====================\n",
      "\n",
      "    :Missing Attribute Values: None\n",
      "    :Class Distribution: 33.3% for each of 3 classes.\n",
      "    :Creator: R.A. Fisher\n",
      "    :Donor: Michael Marshall (MARSHALL%PLU@io.arc.nasa.gov)\n",
      "    :Date: July, 1988\n",
      "\n",
      "This is a copy of UCI ML iris datasets.\n",
      "http://archive.ics.uci.edu/ml/datasets/Iris\n",
      "\n",
      "The famous Iris database, first used by Sir R.A Fisher\n",
      "\n",
      "This is perhaps the best known database to be found in the\n",
      "pattern recognition literature.  Fisher's paper is a classic in the field and\n",
      "is referenced frequently to this day.  (See Duda & Hart, for example.)  The\n",
      "data set contains 3 classes of 50 instances each, where each class refers to a\n",
      "type of iris plant.  One class is linearly separable from the other 2; the\n",
      "latter are NOT linearly separable from each other.\n",
      "\n",
      "References\n",
      "----------\n",
      "   - Fisher,R.A. \"The use of multiple measurements in taxonomic problems\"\n",
      "     Annual Eugenics, 7, Part II, 179-188 (1936); also in \"Contributions to\n",
      "     Mathematical Statistics\" (John Wiley, NY, 1950).\n",
      "   - Duda,R.O., & Hart,P.E. (1973) Pattern Classification and Scene Analysis.\n",
      "     (Q327.D83) John Wiley & Sons.  ISBN 0-471-22361-1.  See page 218.\n",
      "   - Dasarathy, B.V. (1980) \"Nosing Around the Neighborhood: A New System\n",
      "     Structure and Classification Rule for Recognition in Partially Exposed\n",
      "     Environments\".  IEEE Transactions on Pattern Analysis and Machine\n",
      "     Intelligence, Vol. PAMI-2, No. 1, 67-71.\n",
      "   - Gates, G.W. (1972) \"The Reduced Nearest Neighbor Rule\".  IEEE Transactions\n",
      "     on Information Theory, May 1972, 431-433.\n",
      "   - See also: 1988 MLC Proceedings, 54-64.  Cheeseman et al\"s AUTOCLASS II\n",
      "     conceptual clustering system finds 3 classes in the data.\n",
      "   - Many, many more ...\n",
      "\n"
     ]
    }
   ],
   "source": [
    "iris = datasets.load_iris() # Bunch object\n",
    "print(iris.DESCR)"
   ]
  },
  {
   "cell_type": "code",
   "execution_count": 43,
   "metadata": {},
   "outputs": [
    {
     "name": "stdout",
     "output_type": "stream",
     "text": [
      "Dimensions:\n",
      "(150, 4)\n",
      "---\n",
      "First 5 samples:\n",
      "[[ 5.1  3.5  1.4  0.2]\n",
      " [ 4.9  3.   1.4  0.2]\n",
      " [ 4.7  3.2  1.3  0.2]\n",
      " [ 4.6  3.1  1.5  0.2]\n",
      " [ 5.   3.6  1.4  0.2]]\n",
      "---\n",
      "Feature names:\n",
      "['sepal length (cm)', 'sepal width (cm)', 'petal length (cm)', 'petal width (cm)']\n"
     ]
    }
   ],
   "source": [
    "A0 = iris.data # np.array\n",
    "\n",
    "print(\"Dimensions:\")\n",
    "print(A0.shape)\n",
    "\n",
    "print(\"---\")\n",
    "print(\"First 5 samples:\")\n",
    "print(A0[:5,:])\n",
    "\n",
    "print(\"---\")\n",
    "print(\"Feature names:\")\n",
    "print(iris.feature_names)"
   ]
  },
  {
   "cell_type": "code",
   "execution_count": 44,
   "metadata": {},
   "outputs": [
    {
     "name": "stdout",
     "output_type": "stream",
     "text": [
      "Does A have zero mean across rows?\n",
      "[ -1.12502600e-15  -6.75015599e-16  -3.23889064e-15  -6.06921920e-16]\n",
      "---\n",
      "Sigma:\n",
      "[[ 0.68569351 -0.03926846  1.27368233  0.5169038 ]\n",
      " [-0.03926846  0.18800403 -0.32171275 -0.11798121]\n",
      " [ 1.27368233 -0.32171275  3.11317942  1.29638747]\n",
      " [ 0.5169038  -0.11798121  1.29638747  0.58241432]]\n",
      "---\n",
      "Evalues:\n",
      "[ 4.22484077  0.24224357  0.07852391  0.02368303]\n",
      "---\n",
      "Evectors:\n",
      "[[ 0.36158968 -0.65653988 -0.58099728  0.31725455]\n",
      " [-0.08226889 -0.72971237  0.59641809 -0.32409435]\n",
      " [ 0.85657211  0.1757674   0.07252408 -0.47971899]\n",
      " [ 0.35884393  0.07470647  0.54906091  0.75112056]]\n",
      "---\n",
      "Compressed - 4D to 2D:\n",
      "[[-2.68420713 -0.32660731]\n",
      " [-2.71539062  0.16955685]\n",
      " [-2.88981954  0.13734561]\n",
      " [-2.7464372   0.31112432]\n",
      " [-2.72859298 -0.33392456]]\n",
      "---\n",
      "Reconstructed version - 2D to 4D:\n",
      "[[ 5.08718247  3.51315614  1.4020428   0.21105556]\n",
      " [ 4.75015528  3.15366444  1.46254138  0.23693223]\n",
      " [ 4.70823155  3.19151946  1.30746874  0.17193308]\n",
      " [ 4.64598447  3.05291508  1.46083069  0.23636736]\n",
      " [ 5.07593707  3.5221472   1.36273698  0.19458132]]\n"
     ]
    }
   ],
   "source": [
    "# Eigen-decomposition: 5-step process\n",
    "\n",
    "# 1. Normalize columns of $A$ so that each feature has zero mean\n",
    "mu = np.mean(A0,axis=0)\n",
    "A = A0 - mu\n",
    "print(\"Does A have zero mean across rows?\")\n",
    "print(np.mean(A,axis=0))\n",
    "\n",
    "# 2. Compute sample covariance matrix $\\Sigma = {A^TA}/{(m-1)}$\n",
    "m,n = A.shape\n",
    "Sigma = (A.T @ A)/(m-1)\n",
    "print(\"---\")\n",
    "print(\"Sigma:\")\n",
    "print(Sigma)\n",
    "\n",
    "# 3. Perform eigen-decomposition of $\\Sigma$ using `np.linalg.eig(Sigma)`\n",
    "l,X = np.linalg.eig(Sigma)\n",
    "print(\"---\")\n",
    "print(\"Evalues:\")\n",
    "print(l)\n",
    "print(\"---\")\n",
    "print(\"Evectors:\")\n",
    "print(X)\n",
    "\n",
    "# 4. Compress by ordering $k$ evectors according to largest evalues and compute $AX_k$\n",
    "print(\"---\")\n",
    "print(\"Compressed - 4D to 2D:\")\n",
    "Acomp = A @ X[:,:2] # first 2 evectors\n",
    "print(Acomp[:5,:]) # first 5 observations\n",
    "\n",
    "# 5. Reconstruct from compressed version by computing $A X_k X_k^T$\n",
    "print(\"---\")\n",
    "print(\"Reconstructed version - 2D to 4D:\")\n",
    "Arec = A @ X[:,:2] @ X[:,:2].T # first 2 evectors\n",
    "print(Arec[:5,:]+mu) # first 5 obs, adding mu to compare to original"
   ]
  },
  {
   "cell_type": "code",
   "execution_count": 45,
   "metadata": {
    "scrolled": true
   },
   "outputs": [
    {
     "name": "stdout",
     "output_type": "stream",
     "text": [
      "Principal components:\n",
      "[[ 0.36158968 -0.08226889  0.85657211  0.35884393]\n",
      " [ 0.65653988  0.72971237 -0.1757674  -0.07470647]]\n",
      "---\n",
      "Compressed - 4D to 2D:\n",
      "[[-2.68420713  0.32660731]\n",
      " [-2.71539062 -0.16955685]\n",
      " [-2.88981954 -0.13734561]\n",
      " [-2.7464372  -0.31112432]\n",
      " [-2.72859298  0.33392456]]\n",
      "---\n",
      "Reconstructed - 2D to 4D:\n",
      "[[ 5.08718247  3.51315614  1.4020428   0.21105556]\n",
      " [ 4.75015528  3.15366444  1.46254138  0.23693223]\n",
      " [ 4.70823155  3.19151946  1.30746874  0.17193308]\n",
      " [ 4.64598447  3.05291508  1.46083069  0.23636736]\n",
      " [ 5.07593707  3.5221472   1.36273698  0.19458132]]\n"
     ]
    }
   ],
   "source": [
    "# Using sklearn.decomposition.PCA\n",
    "\n",
    "pca = PCA(n_components=2) # two components\n",
    "pca.fit(A0) # run PCA, putting in raw version for fun\n",
    "\n",
    "print(\"Principal components:\")\n",
    "print(pca.components_)\n",
    "\n",
    "print(\"---\")\n",
    "print(\"Compressed - 4D to 2D:\")\n",
    "print(pca.transform(A0)[:5,:]) # first 5 obs\n",
    "\n",
    "print(\"---\")\n",
    "print(\"Reconstructed - 2D to 4D:\")\n",
    "print(pca.inverse_transform(pca.transform(A0))[:5,:]) # first 5 obs"
   ]
  },
  {
   "cell_type": "markdown",
   "metadata": {},
   "source": [
    "## Another Example"
   ]
  },
  {
   "cell_type": "code",
   "execution_count": 31,
   "metadata": {},
   "outputs": [],
   "source": [
    "from __future__ import print_function, division\n",
    "\n",
    "%matplotlib inline\n",
    "import numpy as np\n",
    "import matplotlib.pyplot as plt\n",
    "from scipy import stats\n",
    "\n",
    "# use seaborn plotting style defaults\n",
    "import seaborn as sns; sns.set()"
   ]
  },
  {
   "cell_type": "code",
   "execution_count": 32,
   "metadata": {},
   "outputs": [
    {
     "data": {
      "image/png": "[encoded data removed]",
      "text/plain": [
       "<matplotlib.figure.Figure at 0x7fd0c682dac8>"
      ]
     },
     "metadata": {},
     "output_type": "display_data"
    }
   ],
   "source": [
    "np.random.seed(1)\n",
    "X = np.dot(np.random.random(size=(2, 2)), np.random.normal(size=(2, 200))).T\n",
    "plt.plot(X[:, 0], X[:, 1], 'o')\n",
    "plt.axis('equal');"
   ]
  },
  {
   "cell_type": "markdown",
   "metadata": {},
   "source": [
    "We can see that there is a definite trend in the data. What PCA seeks to do is to find the **Principal Axes** in the data, and explain how important those axes are in describing the data distribution:"
   ]
  },
  {
   "cell_type": "code",
   "execution_count": 33,
   "metadata": {},
   "outputs": [
    {
     "name": "stdout",
     "output_type": "stream",
     "text": [
      "[ 0.75871884  0.01838551]\n",
      "[[-0.94446029 -0.32862557]\n",
      " [-0.32862557  0.94446029]]\n"
     ]
    }
   ],
   "source": [
    "from sklearn.decomposition import PCA\n",
    "pca = PCA(n_components=2)\n",
    "pca.fit(X)\n",
    "print(pca.explained_variance_)\n",
    "print(pca.components_)"
   ]
  },
  {
   "cell_type": "markdown",
   "metadata": {},
   "source": [
    "To see what these numbers mean, let's view them as vectors plotted on top of the data:"
   ]
  },
  {
   "cell_type": "code",
   "execution_count": 34,
   "metadata": {},
   "outputs": [
    {
     "data": {
      "image/png": "[encoded data removed]",
      "text/plain": [
       "<matplotlib.figure.Figure at 0x7fd0c3460e10>"
      ]
     },
     "metadata": {},
     "output_type": "display_data"
    }
   ],
   "source": [
    "plt.plot(X[:, 0], X[:, 1], 'o', alpha=0.5)\n",
    "for length, vector in zip(pca.explained_variance_, pca.components_):\n",
    "    v = vector * 3 * np.sqrt(length)\n",
    "    plt.plot([0, v[0]], [0, v[1]], '-k', lw=3)\n",
    "plt.axis('equal');"
   ]
  },
  {
   "cell_type": "markdown",
   "metadata": {},
   "source": [
    "Notice that one vector is longer than the other. In a sense, this tells us that that direction in the data is somehow more \"important\" than the other direction.\n",
    "The explained variance quantifies this measure of \"importance\" in direction.\n",
    "\n",
    "Another way to think of it is that the second principal component could be **completely ignored** without much loss of information! Let's see what our data look like if we only keep 95% of the variance:"
   ]
  },
  {
   "cell_type": "code",
   "execution_count": 35,
   "metadata": {},
   "outputs": [
    {
     "name": "stdout",
     "output_type": "stream",
     "text": [
      "(200, 2)\n",
      "(200, 1)\n"
     ]
    }
   ],
   "source": [
    "clf = PCA(0.95) # keep 95% of variance\n",
    "X_trans = clf.fit_transform(X)\n",
    "print(X.shape)\n",
    "print(X_trans.shape)"
   ]
  },
  {
   "cell_type": "markdown",
   "metadata": {},
   "source": [
    "By specifying that we want to throw away 5% of the variance, the data is now compressed by a factor of 50%! Let's see what the data look like after this compression:"
   ]
  },
  {
   "cell_type": "code",
   "execution_count": 36,
   "metadata": {},
   "outputs": [
    {
     "data": {
      "image/png": "[encoded data removed]",
      "text/plain": [
       "<matplotlib.figure.Figure at 0x7fd0c32054a8>"
      ]
     },
     "metadata": {},
     "output_type": "display_data"
    }
   ],
   "source": [
    "X_new = clf.inverse_transform(X_trans)\n",
    "plt.plot(X[:, 0], X[:, 1], 'o', alpha=0.2)\n",
    "plt.plot(X_new[:, 0], X_new[:, 1], 'ob', alpha=0.8)\n",
    "plt.axis('equal');"
   ]
  },
  {
   "cell_type": "markdown",
   "metadata": {},
   "source": [
    "The light points are the original data, while the dark points are the projected version.  We see that after truncating 5% of the variance of this dataset and then reprojecting it, the \"most important\" features of the data are maintained, and we've compressed the data by 50%!\n",
    "\n",
    "This is the sense in which \"dimensionality reduction\" works: if you can approximate a data set in a lower dimension, you can often have an easier time visualizing it or fitting complicated models to the data."
   ]
  },
  {
   "cell_type": "code",
   "execution_count": null,
   "metadata": {
    "collapsed": true
   },
   "outputs": [],
   "source": []
  }
 ],
 "metadata": {
  "kernelspec": {
   "display_name": "Python 3",
   "language": "python",
   "name": "python3"
  },
  "language_info": {
   "codemirror_mode": {
    "name": "ipython",
    "version": 3
   },
   "file_extension": ".py",
   "mimetype": "text/x-python",
   "name": "python",
   "nbconvert_exporter": "python",
   "pygments_lexer": "ipython3",
   "version": "3.5.2"
  }
 },
 "nbformat": 4,
 "nbformat_minor": 2
}
